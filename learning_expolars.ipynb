{
 "cells": [
  {
   "cell_type": "code",
   "execution_count": 1,
   "metadata": {},
   "outputs": [
    {
     "name": "stdout",
     "output_type": "stream",
     "text": [
      "All dependencies are up to date\n",
      "Resolving Hex dependencies...\n",
      "Dependency resolution completed:\n",
      "New:\n",
      "\u001b[32m  ex_polars 0.1.1-dev\u001b[31m\u001b[0m\n",
      "\u001b[32m  jason 1.2.2\u001b[31m\u001b[0m\n",
      "\u001b[32m  rustler 0.22.0-rc.0\u001b[31m\u001b[0m\n",
      "\u001b[32m  toml 0.5.2\u001b[31m\u001b[0m\n",
      "* Getting ex_polars (Hex package)\n",
      "* Getting jason (Hex package)\n",
      "* Getting rustler (Hex package)\n",
      "* Getting toml (Hex package)\n",
      "==> jason\n",
      "Compiling 8 files (.ex)\n",
      "Generated jason app\n",
      "==> toml\n",
      "Compiling 10 files (.ex)\n",
      "Generated toml app\n",
      "==> rustler\n",
      "Compiling 5 files (.ex)\n",
      "Generated rustler app\n",
      "==> ex_polars\n",
      "Compiling NIF crate :expolars (native/expolars)...\n",
      "   Compiling autocfg v1.0.1\n",
      "   Compiling libc v0.2.82\n",
      "   Compiling cfg-if v1.0.0\n",
      "   Compiling lazy_static v1.4.0\n",
      "   Compiling libm v0.2.1\n",
      "   Compiling proc-macro2 v1.0.24\n",
      "   Compiling cfg-if v0.1.10\n",
      "   Compiling unicode-xid v0.2.1\n",
      "   Compiling syn v1.0.58\n",
      "   Compiling log v0.4.11\n",
      "   Compiling memchr v2.3.4\n",
      "   Compiling scopeguard v1.1.0\n",
      "   Compiling byteorder v1.3.4\n",
      "   Compiling getrandom v0.1.16\n",
      "   Compiling either v1.6.1\n",
      "   Compiling ryu v1.0.5\n",
      "   Compiling glob v0.3.0\n",
      "   Compiling smallvec v1.6.0\n",
      "   Compiling serde v1.0.118\n",
      "   Compiling const_fn v0.4.5\n",
      "   Compiling bitflags v1.2.1\n",
      "   Compiling ppv-lite86 v0.2.10\n",
      "   Compiling unicode-segmentation v1.7.1\n",
      "   Compiling libm v0.1.4\n",
      "   Compiling packed_simd_2 v0.3.4\n",
      "   Compiling hashbrown v0.9.1\n",
      "   Compiling rayon-core v1.9.0\n",
      "   Compiling zstd-safe v2.0.6+zstd.1.4.7\n",
      "   Compiling serde_json v1.0.61\n",
      "   Compiling serde_derive v1.0.118\n",
      "   Compiling crc32fast v1.2.1\n",
      "   Compiling alloc-no-stdlib v2.0.1\n",
      "   Compiling itoa v0.4.7\n",
      "   Compiling snap v1.0.3\n",
      "   Compiling regex-syntax v0.6.21\n",
      "   Compiling getrandom v0.2.1\n",
      "   Compiling integer-encoding v1.1.5\n",
      "   Compiling adler v0.2.3\n",
      "   Compiling lexical-core v0.7.4\n",
      "   Compiling arrayvec v0.5.2\n",
      "   Compiling static_assertions v1.1.0\n",
      "   Compiling parquet v2.0.0\n",
      "   Compiling hex v0.4.2\n",
      "   Compiling anyhow v1.0.37\n",
      "   Compiling rustler_sys v2.1.0\n",
      "   Compiling void v1.0.2\n",
      "   Compiling rustler v0.22.0-rc.0\n",
      "   Compiling rawpointer v0.2.1\n",
      "   Compiling strum v0.20.0\n",
      "   Compiling ndarray v0.14.0\n",
      "   Compiling unsafe_unwrap v0.1.0\n",
      "   Compiling instant v0.1.9\n",
      "   Compiling lock_api v0.4.2\n",
      "   Compiling thread_local v1.0.1\n",
      "   Compiling itertools v0.9.0\n",
      "   Compiling flatbuffers v0.6.1\n",
      "   Compiling alloc-stdlib v0.2.1\n",
      "   Compiling num-traits v0.2.14\n",
      "   Compiling num-integer v0.1.44\n",
      "   Compiling crossbeam-utils v0.8.1\n",
      "   Compiling memoffset v0.6.1\n",
      "   Compiling num-bigint v0.3.1\n",
      "   Compiling num-rational v0.3.2\n",
      "   Compiling indexmap v1.6.1\n",
      "   Compiling num-iter v0.1.42\n",
      "   Compiling miniz_oxide v0.4.3\n",
      "   Compiling rayon v1.5.0\n",
      "   Compiling unreachable v1.0.0\n",
      "   Compiling matrixmultiply v0.2.4\n",
      "   Compiling heck v0.3.2\n",
      "   Compiling brotli-decompressor v2.3.1\n",
      "   Compiling csv-core v0.1.10\n",
      "   Compiling aho-corasick v0.7.15\n",
      "   Compiling num_cpus v1.13.0\n",
      "   Compiling time v0.1.44\n",
      "   Compiling mio v0.7.7\n",
      "   Compiling parking_lot_core v0.8.2\n",
      "   Compiling signal-hook-registry v1.3.0\n",
      "   Compiling memmap v0.7.0\n",
      "   Compiling jobserver v0.1.21\n",
      "   Compiling quote v1.0.8\n",
      "   Compiling regex-automata v0.1.9\n",
      "   Compiling threadpool v1.8.1\n",
      "   Compiling rand_core v0.5.1\n",
      "   Compiling brotli v3.3.0\n",
      "   Compiling parking_lot v0.11.1\n",
      "   Compiling ahash v0.5.10\n",
      "   Compiling signal-hook v0.1.17\n",
      "   Compiling cc v1.0.66\n",
      "   Compiling regex v1.4.2\n",
      "   Compiling crossbeam-epoch v0.9.1\n",
      "   Compiling crossbeam-channel v0.5.0\n",
      "   Compiling crossbeam-queue v0.3.1\n",
      "   Compiling flate2 v1.0.19\n",
      "   Compiling rand_chacha v0.2.2\n",
      "   Compiling crossterm v0.19.0\n",
      "   Compiling lexical v5.2.0\n",
      "   Compiling num-complex v0.3.1\n",
      "   Compiling ordered-float v1.1.1\n",
      "   Compiling crossbeam-deque v0.8.0\n",
      "   Compiling rand v0.7.3\n",
      "   Compiling zstd-sys v1.4.18+zstd.1.4.7\n",
      "   Compiling lz4-sys v1.9.2\n",
      "   Compiling thrift v0.13.0\n",
      "   Compiling chrono v0.4.19\n",
      "   Compiling crossbeam v0.8.0\n",
      "   Compiling bstr v0.2.14\n",
      "   Compiling parquet-format v2.6.1\n",
      "   Compiling rand_distr v0.3.0\n",
      "   Compiling csv v1.1.5\n",
      "   Compiling num v0.3.1\n",
      "   Compiling strum_macros v0.20.1\n",
      "   Compiling thiserror-impl v1.0.23\n",
      "   Compiling rustler_codegen v0.22.0-rc.0\n",
      "   Compiling thiserror v1.0.23\n",
      "   Compiling comfy-table v1.5.0\n",
      "   Compiling lz4 v1.23.2\n",
      "   Compiling arrow v2.0.0\n",
      "   Compiling zstd v0.5.4+zstd.1.4.7\n",
      "   Compiling polars v0.10.1 (https://github.com/ritchie46/polars#b9925db7)\n",
      "   Compiling expolars v0.1.0 (/Users/tchen/projects/opensource/elixir/IElixir/envs/polars/deps/ex_polars/native/expolars)\n",
      "    Finished release [optimized] target(s) in 5m 32s\n",
      "Compiling 4 files (.ex)\n",
      "Generated ex_polars app\n"
     ]
    },
    {
     "name": "stderr",
     "output_type": "stream",
     "text": [
      "\u001b[33mwarning: \u001b[0mredefining module CustomEnvironment (current version defined in memory)\n",
      "  mix.exs:1\n",
      "\n",
      "\u001b[33mwarning: \u001b[0mEEx.eval_string/3 defined in application :eex is used by the current application but the current application does not directly depend on :eex. To fix this, you must do one of:\n",
      "\n",
      "  1. If :eex is part of Erlang/Elixir, you must include it under :extra_applications inside \"def application\" in your mix.exs\n",
      "\n",
      "  2. If :eex is a dependency, make sure it is listed under \"def deps\" in your mix.exs\n",
      "\n",
      "  3. In case you don't want to add a requirement to :eex, you may optionally skip this warning by adding [xref: [exclude: EEx]] to your \"def project\" in mix.exs\n",
      "\n",
      "  lib/mix/tasks/rustler.new.ex:115: Mix.Tasks.Rustler.New.copy_from/3\n",
      "\n",
      "\u001b[33mwarning: \u001b[0mToml.decode!/1 defined in application :toml is used by the current application but the current application does not directly depend on :toml. To fix this, you must do one of:\n",
      "\n",
      "  1. If :toml is part of Erlang/Elixir, you must include it under :extra_applications inside \"def application\" in your mix.exs\n",
      "\n",
      "  2. If :toml is a dependency, make sure it is listed under \"def deps\" in your mix.exs\n",
      "\n",
      "  3. In case you don't want to add a requirement to :toml, you may optionally skip this warning by adding [xref: [exclude: Toml]] to your \"def project\" in mix.exs\n",
      "\n",
      "  lib/mix/tasks/compile.rustler.ex:206: Mix.Tasks.Compile.Rustler.check_crate_env/1\n",
      "\n"
     ]
    },
    {
     "data": {
      "text/plain": [
       "ExPolars.DataFrame"
      ]
     },
     "execution_count": 1,
     "metadata": {},
     "output_type": "execute_result"
    }
   ],
   "source": [
    "Boyle.mk(\"polars\")\n",
    "Boyle.activate(\"polars\")\n",
    "Boyle.install({:ex_polars, \"~> 0.1.1-dev\"})\n",
    "alias ExPolars.Series, as: S\n",
    "alias ExPolars.DataFrame, as: DF"
   ]
  },
  {
   "cell_type": "code",
   "execution_count": 2,
   "metadata": {},
   "outputs": [
    {
     "data": {
      "text/plain": [
       "{:ok, shape: (3376, 7)\n",
       "╭──────┬───────────────────────────┬──────────────────┬───────┬─────────┬──────────┬────────────╮\n",
       "│ iata ┆ name                      ┆ city             ┆ state ┆ country ┆ latitude ┆ longitude  │\n",
       "│ ---  ┆ ---                       ┆ ---              ┆ ---   ┆ ---     ┆ ---      ┆ ---        │\n",
       "│ str  ┆ str                       ┆ str              ┆ str   ┆ str     ┆ f64      ┆ f64        │\n",
       "╞══════╪═══════════════════════════╪══════════════════╪═══════╪═════════╪══════════╪════════════╡\n",
       "│ 00M  ┆ Thigpen                   ┆ Bay Springs      ┆ MS    ┆ USA     ┆ 31.954   ┆ -8.9235e1  │\n",
       "├╌╌╌╌╌╌┼╌╌╌╌╌╌╌╌╌╌╌╌╌╌╌╌╌╌╌╌╌╌╌╌╌╌╌┼╌╌╌╌╌╌╌╌╌╌╌╌╌╌╌╌╌╌┼╌╌╌╌╌╌╌┼╌╌╌╌╌╌╌╌╌┼╌╌╌╌╌╌╌╌╌╌┼╌╌╌╌╌╌╌╌╌╌╌╌┤\n",
       "│ 00R  ┆ Livingston Municipal      ┆ Livingston       ┆ TX    ┆ USA     ┆ 30.686   ┆ -9.5018e1  │\n",
       "├╌╌╌╌╌╌┼╌╌╌╌╌╌╌╌╌╌╌╌╌╌╌╌╌╌╌╌╌╌╌╌╌╌╌┼╌╌╌╌╌╌╌╌╌╌╌╌╌╌╌╌╌╌┼╌╌╌╌╌╌╌┼╌╌╌╌╌╌╌╌╌┼╌╌╌╌╌╌╌╌╌╌┼╌╌╌╌╌╌╌╌╌╌╌╌┤\n",
       "│ 00V  ┆ Meadow Lake               ┆ Colorado Springs ┆ CO    ┆ USA     ┆ 38.946   ┆ -1.0457e2  │\n",
       "├╌╌╌╌╌╌┼╌╌╌╌╌╌╌╌╌╌╌╌╌╌╌╌╌╌╌╌╌╌╌╌╌╌╌┼╌╌╌╌╌╌╌╌╌╌╌╌╌╌╌╌╌╌┼╌╌╌╌╌╌╌┼╌╌╌╌╌╌╌╌╌┼╌╌╌╌╌╌╌╌╌╌┼╌╌╌╌╌╌╌╌╌╌╌╌┤\n",
       "│ 01G  ┆ Perry-Warsaw              ┆ Perry            ┆ NY    ┆ USA     ┆ 42.741   ┆ -7.8052e1  │\n",
       "├╌╌╌╌╌╌┼╌╌╌╌╌╌╌╌╌╌╌╌╌╌╌╌╌╌╌╌╌╌╌╌╌╌╌┼╌╌╌╌╌╌╌╌╌╌╌╌╌╌╌╌╌╌┼╌╌╌╌╌╌╌┼╌╌╌╌╌╌╌╌╌┼╌╌╌╌╌╌╌╌╌╌┼╌╌╌╌╌╌╌╌╌╌╌╌┤\n",
       "│ ...  ┆ ...                       ┆ ...              ┆ ...   ┆ ...     ┆ ...      ┆ ...        │\n",
       "├╌╌╌╌╌╌┼╌╌╌╌╌╌╌╌╌╌╌╌╌╌╌╌╌╌╌╌╌╌╌╌╌╌╌┼╌╌╌╌╌╌╌╌╌╌╌╌╌╌╌╌╌╌┼╌╌╌╌╌╌╌┼╌╌╌╌╌╌╌╌╌┼╌╌╌╌╌╌╌╌╌╌┼╌╌╌╌╌╌╌╌╌╌╌╌┤\n",
       "│ ZEF  ┆ Elkin Municipal           ┆ Elkin            ┆ NC    ┆ USA     ┆ 36.28    ┆ -8.0786e1  │\n",
       "├╌╌╌╌╌╌┼╌╌╌╌╌╌╌╌╌╌╌╌╌╌╌╌╌╌╌╌╌╌╌╌╌╌╌┼╌╌╌╌╌╌╌╌╌╌╌╌╌╌╌╌╌╌┼╌╌╌╌╌╌╌┼╌╌╌╌╌╌╌╌╌┼╌╌╌╌╌╌╌╌╌╌┼╌╌╌╌╌╌╌╌╌╌╌╌┤\n",
       "│ ZER  ┆ Schuylkill Cty/Joe Zerbey ┆ Pottsville       ┆ PA    ┆ USA     ┆ 40.706   ┆ -7.6373e1  │\n",
       "├╌╌╌╌╌╌┼╌╌╌╌╌╌╌╌╌╌╌╌╌╌╌╌╌╌╌╌╌╌╌╌╌╌╌┼╌╌╌╌╌╌╌╌╌╌╌╌╌╌╌╌╌╌┼╌╌╌╌╌╌╌┼╌╌╌╌╌╌╌╌╌┼╌╌╌╌╌╌╌╌╌╌┼╌╌╌╌╌╌╌╌╌╌╌╌┤\n",
       "│ ZPH  ┆ Zephyrhills Municipal     ┆ Zephyrhills      ┆ FL    ┆ USA     ┆ 28.228   ┆ -8.2156e1  │\n",
       "├╌╌╌╌╌╌┼╌╌╌╌╌╌╌╌╌╌╌╌╌╌╌╌╌╌╌╌╌╌╌╌╌╌╌┼╌╌╌╌╌╌╌╌╌╌╌╌╌╌╌╌╌╌┼╌╌╌╌╌╌╌┼╌╌╌╌╌╌╌╌╌┼╌╌╌╌╌╌╌╌╌╌┼╌╌╌╌╌╌╌╌╌╌╌╌┤\n",
       "│ ZUN  ┆ Black Rock                ┆ Zuni             ┆ NM    ┆ USA     ┆ 35.083   ┆ -1.08792e2 │\n",
       "├╌╌╌╌╌╌┼╌╌╌╌╌╌╌╌╌╌╌╌╌╌╌╌╌╌╌╌╌╌╌╌╌╌╌┼╌╌╌╌╌╌╌╌╌╌╌╌╌╌╌╌╌╌┼╌╌╌╌╌╌╌┼╌╌╌╌╌╌╌╌╌┼╌╌╌╌╌╌╌╌╌╌┼╌╌╌╌╌╌╌╌╌╌╌╌┤\n",
       "│ ZZV  ┆ Zanesville Municipal      ┆ Zanesville       ┆ OH    ┆ USA     ┆ 39.944   ┆ -8.1892e1  │\n",
       "╰──────┴───────────────────────────┴──────────────────┴───────┴─────────┴──────────┴────────────╯}"
      ]
     },
     "execution_count": 2,
     "metadata": {},
     "output_type": "execute_result"
    }
   ],
   "source": [
    "{:ok, df} = DF.read_csv(\"./lib/vega_datasets/_data/airports.csv\")"
   ]
  },
  {
   "cell_type": "code",
   "execution_count": 3,
   "metadata": {},
   "outputs": [
    {
     "data": {
      "text/plain": [
       "{:ok, shape: (5, 7)\n",
       "╭──────┬───────────────────────────┬─────────────┬───────┬─────────┬──────────┬────────────╮\n",
       "│ iata ┆ name                      ┆ city        ┆ state ┆ country ┆ latitude ┆ longitude  │\n",
       "│ ---  ┆ ---                       ┆ ---         ┆ ---   ┆ ---     ┆ ---      ┆ ---        │\n",
       "│ str  ┆ str                       ┆ str         ┆ str   ┆ str     ┆ f64      ┆ f64        │\n",
       "╞══════╪═══════════════════════════╪═════════════╪═══════╪═════════╪══════════╪════════════╡\n",
       "│ ZEF  ┆ Elkin Municipal           ┆ Elkin       ┆ NC    ┆ USA     ┆ 36.28    ┆ -8.0786e1  │\n",
       "├╌╌╌╌╌╌┼╌╌╌╌╌╌╌╌╌╌╌╌╌╌╌╌╌╌╌╌╌╌╌╌╌╌╌┼╌╌╌╌╌╌╌╌╌╌╌╌╌┼╌╌╌╌╌╌╌┼╌╌╌╌╌╌╌╌╌┼╌╌╌╌╌╌╌╌╌╌┼╌╌╌╌╌╌╌╌╌╌╌╌┤\n",
       "│ ZER  ┆ Schuylkill Cty/Joe Zerbey ┆ Pottsville  ┆ PA    ┆ USA     ┆ 40.706   ┆ -7.6373e1  │\n",
       "├╌╌╌╌╌╌┼╌╌╌╌╌╌╌╌╌╌╌╌╌╌╌╌╌╌╌╌╌╌╌╌╌╌╌┼╌╌╌╌╌╌╌╌╌╌╌╌╌┼╌╌╌╌╌╌╌┼╌╌╌╌╌╌╌╌╌┼╌╌╌╌╌╌╌╌╌╌┼╌╌╌╌╌╌╌╌╌╌╌╌┤\n",
       "│ ZPH  ┆ Zephyrhills Municipal     ┆ Zephyrhills ┆ FL    ┆ USA     ┆ 28.228   ┆ -8.2156e1  │\n",
       "├╌╌╌╌╌╌┼╌╌╌╌╌╌╌╌╌╌╌╌╌╌╌╌╌╌╌╌╌╌╌╌╌╌╌┼╌╌╌╌╌╌╌╌╌╌╌╌╌┼╌╌╌╌╌╌╌┼╌╌╌╌╌╌╌╌╌┼╌╌╌╌╌╌╌╌╌╌┼╌╌╌╌╌╌╌╌╌╌╌╌┤\n",
       "│ ZUN  ┆ Black Rock                ┆ Zuni        ┆ NM    ┆ USA     ┆ 35.083   ┆ -1.08792e2 │\n",
       "├╌╌╌╌╌╌┼╌╌╌╌╌╌╌╌╌╌╌╌╌╌╌╌╌╌╌╌╌╌╌╌╌╌╌┼╌╌╌╌╌╌╌╌╌╌╌╌╌┼╌╌╌╌╌╌╌┼╌╌╌╌╌╌╌╌╌┼╌╌╌╌╌╌╌╌╌╌┼╌╌╌╌╌╌╌╌╌╌╌╌┤\n",
       "│ ZZV  ┆ Zanesville Municipal      ┆ Zanesville  ┆ OH    ┆ USA     ┆ 39.944   ┆ -8.1892e1  │\n",
       "╰──────┴───────────────────────────┴─────────────┴───────┴─────────┴──────────┴────────────╯}"
      ]
     },
     "execution_count": 3,
     "metadata": {},
     "output_type": "execute_result"
    }
   ],
   "source": [
    "DF.tail(df)"
   ]
  },
  {
   "cell_type": "code",
   "execution_count": 4,
   "metadata": {},
   "outputs": [
    {
     "data": {
      "text/plain": [
       "{:ok, [\"iata\", \"name\", \"city\", \"state\", \"country\", \"latitude\", \"longitude\"]}"
      ]
     },
     "execution_count": 4,
     "metadata": {},
     "output_type": "execute_result"
    }
   ],
   "source": [
    "DF.columns(df)"
   ]
  },
  {
   "cell_type": "code",
   "execution_count": 5,
   "metadata": {},
   "outputs": [
    {
     "data": {
      "text/plain": [
       "{:ok, [Series: 'iata' [str]\n",
       "[\n",
       "\t\"00M\"\n",
       "\t\"00R\"\n",
       "\t\"00V\"\n",
       "\t\"01G\"\n",
       "\t\"01J\"\n",
       "\t\"01M\"\n",
       "\t\"02A\"\n",
       "\t\"02C\"\n",
       "\t\"02G\"\n",
       "\t\"03D\"\n",
       "], Series: 'name' [str]\n",
       "[\n",
       "\t\"Thigpen\"\n",
       "\t\"Livingston...\"\n",
       "\t\"Meadow Lak...\"\n",
       "\t\"Perry-Wars...\"\n",
       "\t\"Hilliard A...\"\n",
       "\t\"Tishomingo...\"\n",
       "\t\"Gragg-Wade...\"\n",
       "\t\"Capitol\"\n",
       "\t\"Columbiana...\"\n",
       "\t\"Memphis Me...\"\n",
       "], Series: 'city' [str]\n",
       "[\n",
       "\t\"Bay Spring...\"\n",
       "\t\"Livingston...\"\n",
       "\t\"Colorado S...\"\n",
       "\t\"Perry\"\n",
       "\t\"Hilliard\"\n",
       "\t\"Belmont\"\n",
       "\t\"Clanton\"\n",
       "\t\"Brookfield...\"\n",
       "\t\"East Liver...\"\n",
       "\t\"Memphis\"\n",
       "], Series: 'state' [str]\n",
       "[\n",
       "\t\"MS\"\n",
       "\t\"TX\"\n",
       "\t\"CO\"\n",
       "\t\"NY\"\n",
       "\t\"FL\"\n",
       "\t\"MS\"\n",
       "\t\"AL\"\n",
       "\t\"WI\"\n",
       "\t\"OH\"\n",
       "\t\"MO\"\n",
       "], Series: 'country' [str]\n",
       "[\n",
       "\t\"USA\"\n",
       "\t\"USA\"\n",
       "\t\"USA\"\n",
       "\t\"USA\"\n",
       "\t\"USA\"\n",
       "\t\"USA\"\n",
       "\t\"USA\"\n",
       "\t\"USA\"\n",
       "\t\"USA\"\n",
       "\t\"USA\"\n",
       "], Series: 'latitude' [f64]\n",
       "[\n",
       "\t31.954\n",
       "\t30.686\n",
       "\t38.946\n",
       "\t42.741\n",
       "\t30.688\n",
       "\t34.492\n",
       "\t32.85\n",
       "\t43.088\n",
       "\t40.673\n",
       "\t40.447\n",
       "], Series: 'longitude' [f64]\n",
       "[\n",
       "\t-8.9235e1\n",
       "\t-9.5018e1\n",
       "\t-1.0457e2\n",
       "\t-7.8052e1\n",
       "\t-8.1906e1\n",
       "\t-8.8201e1\n",
       "\t-8.6611e1\n",
       "\t-8.8178e1\n",
       "\t-8.0641e1\n",
       "\t-9.2227e1\n",
       "]]}"
      ]
     },
     "execution_count": 5,
     "metadata": {},
     "output_type": "execute_result"
    }
   ],
   "source": [
    "DF.get_columns(df)"
   ]
  },
  {
   "cell_type": "code",
   "execution_count": 6,
   "metadata": {},
   "outputs": [
    {
     "data": {
      "text/plain": [
       "{:ok, Series: 'iata' [str]\n",
       "[\n",
       "\t\"00M\"\n",
       "\t\"00R\"\n",
       "\t\"00V\"\n",
       "\t\"01G\"\n",
       "\t\"01J\"\n",
       "\t\"01M\"\n",
       "\t\"02A\"\n",
       "\t\"02C\"\n",
       "\t\"02G\"\n",
       "\t\"03D\"\n",
       "]}"
      ]
     },
     "execution_count": 6,
     "metadata": {},
     "output_type": "execute_result"
    }
   ],
   "source": [
    "DF.select_at_idx(df, 0)"
   ]
  },
  {
   "cell_type": "code",
   "execution_count": 7,
   "metadata": {},
   "outputs": [
    {
     "data": {
      "text/plain": [
       "{:ok, Series: 'longitude' [f64]\n",
       "[\n",
       "\t-8.9235e1\n",
       "\t-9.5018e1\n",
       "\t-1.0457e2\n",
       "\t-7.8052e1\n",
       "\t-8.1906e1\n",
       "\t-8.8201e1\n",
       "\t-8.6611e1\n",
       "\t-8.8178e1\n",
       "\t-8.0641e1\n",
       "\t-9.2227e1\n",
       "]}"
      ]
     },
     "execution_count": 7,
     "metadata": {},
     "output_type": "execute_result"
    }
   ],
   "source": [
    "DF.column(df, \"longitude\")"
   ]
  },
  {
   "cell_type": "code",
   "execution_count": 4,
   "metadata": {},
   "outputs": [
    {
     "name": "stderr",
     "output_type": "stream",
     "text": [
      "\u001b[33mwarning: \u001b[0mcode block contains unused literal \"<a href='http://example.com'>link</a>\" (remove the literal or assign it to _ to avoid warnings)\n",
      "  nofile\n",
      "\n"
     ]
    }
   ],
   "source": [
    "\"<a href='http://example.com'>link</a>\"\n",
    ":\"this is raw html\""
   ]
  },
  {
   "cell_type": "code",
   "execution_count": null,
   "metadata": {},
   "outputs": [],
   "source": []
  }
 ],
 "metadata": {
  "kernelspec": {
   "display_name": "Elixir",
   "language": "Elixir",
   "name": "ielixir"
  },
  "language_info": {
   "codemirror_mode": "elixir",
   "file_extension": "ex",
   "mimetype": "text/x-elixir",
   "name": "elixir",
   "nbconvert_exporter": "",
   "pygments_lexer": "elixir",
   "version": "1.11.2"
  }
 },
 "nbformat": 4,
 "nbformat_minor": 4
}
