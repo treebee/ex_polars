{
 "cells": [
  {
   "cell_type": "code",
   "execution_count": 3,
   "metadata": {},
   "outputs": [
    {
     "name": "stdout",
     "output_type": "stream",
     "text": [
      "All dependencies are up to date\n",
      "All dependencies are up to date\n",
      "Resolving Hex dependencies...\n",
      "Dependency resolution completed:\n",
      "Unchanged:\n",
      "  ex_polars 0.1.0-dev\n",
      "  jason 1.2.2\n",
      "  rustler 0.22.0-rc.0\n",
      "  toml 0.5.2\n",
      "All dependencies are up to date\n",
      "==> ex_polars\n",
      "Compiling NIF crate :expolars (native/expolars)...\n",
      "    Finished release [optimized] target(s) in 0.11s\n"
     ]
    },
    {
     "data": {
      "text/plain": [
       "ExPolars.DataFrame"
      ]
     },
     "execution_count": 3,
     "metadata": {},
     "output_type": "execute_result"
    }
   ],
   "source": [
    "Boyle.mk(\"polars\")\n",
    "Boyle.activate(\"polars\")\n",
    "Boyle.install({:ex_polars, \"~> 0.1.0-dev\"})\n",
    "alias ExPolars.Series, as: S\n",
    "alias ExPolars.DataFrame, as: DF"
   ]
  },
  {
   "cell_type": "code",
   "execution_count": 5,
   "metadata": {},
   "outputs": [
    {
     "data": {
      "text/plain": [
       "{:ok, shape: (3376, 7)\n",
       "╭──────┬───────────────────────────┬──────────────────┬───────┬─────────┬──────────┬────────────╮\n",
       "│ iata ┆ name                      ┆ city             ┆ state ┆ country ┆ latitude ┆ longitude  │\n",
       "│ ---  ┆ ---                       ┆ ---              ┆ ---   ┆ ---     ┆ ---      ┆ ---        │\n",
       "│ str  ┆ str                       ┆ str              ┆ str   ┆ str     ┆ f64      ┆ f64        │\n",
       "╞══════╪═══════════════════════════╪══════════════════╪═══════╪═════════╪══════════╪════════════╡\n",
       "│ 00M  ┆ Thigpen                   ┆ Bay Springs      ┆ MS    ┆ USA     ┆ 31.954   ┆ -8.9235e1  │\n",
       "├╌╌╌╌╌╌┼╌╌╌╌╌╌╌╌╌╌╌╌╌╌╌╌╌╌╌╌╌╌╌╌╌╌╌┼╌╌╌╌╌╌╌╌╌╌╌╌╌╌╌╌╌╌┼╌╌╌╌╌╌╌┼╌╌╌╌╌╌╌╌╌┼╌╌╌╌╌╌╌╌╌╌┼╌╌╌╌╌╌╌╌╌╌╌╌┤\n",
       "│ 00R  ┆ Livingston Municipal      ┆ Livingston       ┆ TX    ┆ USA     ┆ 30.686   ┆ -9.5018e1  │\n",
       "├╌╌╌╌╌╌┼╌╌╌╌╌╌╌╌╌╌╌╌╌╌╌╌╌╌╌╌╌╌╌╌╌╌╌┼╌╌╌╌╌╌╌╌╌╌╌╌╌╌╌╌╌╌┼╌╌╌╌╌╌╌┼╌╌╌╌╌╌╌╌╌┼╌╌╌╌╌╌╌╌╌╌┼╌╌╌╌╌╌╌╌╌╌╌╌┤\n",
       "│ 00V  ┆ Meadow Lake               ┆ Colorado Springs ┆ CO    ┆ USA     ┆ 38.946   ┆ -1.0457e2  │\n",
       "├╌╌╌╌╌╌┼╌╌╌╌╌╌╌╌╌╌╌╌╌╌╌╌╌╌╌╌╌╌╌╌╌╌╌┼╌╌╌╌╌╌╌╌╌╌╌╌╌╌╌╌╌╌┼╌╌╌╌╌╌╌┼╌╌╌╌╌╌╌╌╌┼╌╌╌╌╌╌╌╌╌╌┼╌╌╌╌╌╌╌╌╌╌╌╌┤\n",
       "│ 01G  ┆ Perry-Warsaw              ┆ Perry            ┆ NY    ┆ USA     ┆ 42.741   ┆ -7.8052e1  │\n",
       "├╌╌╌╌╌╌┼╌╌╌╌╌╌╌╌╌╌╌╌╌╌╌╌╌╌╌╌╌╌╌╌╌╌╌┼╌╌╌╌╌╌╌╌╌╌╌╌╌╌╌╌╌╌┼╌╌╌╌╌╌╌┼╌╌╌╌╌╌╌╌╌┼╌╌╌╌╌╌╌╌╌╌┼╌╌╌╌╌╌╌╌╌╌╌╌┤\n",
       "│ ...  ┆ ...                       ┆ ...              ┆ ...   ┆ ...     ┆ ...      ┆ ...        │\n",
       "├╌╌╌╌╌╌┼╌╌╌╌╌╌╌╌╌╌╌╌╌╌╌╌╌╌╌╌╌╌╌╌╌╌╌┼╌╌╌╌╌╌╌╌╌╌╌╌╌╌╌╌╌╌┼╌╌╌╌╌╌╌┼╌╌╌╌╌╌╌╌╌┼╌╌╌╌╌╌╌╌╌╌┼╌╌╌╌╌╌╌╌╌╌╌╌┤\n",
       "│ ZEF  ┆ Elkin Municipal           ┆ Elkin            ┆ NC    ┆ USA     ┆ 36.28    ┆ -8.0786e1  │\n",
       "├╌╌╌╌╌╌┼╌╌╌╌╌╌╌╌╌╌╌╌╌╌╌╌╌╌╌╌╌╌╌╌╌╌╌┼╌╌╌╌╌╌╌╌╌╌╌╌╌╌╌╌╌╌┼╌╌╌╌╌╌╌┼╌╌╌╌╌╌╌╌╌┼╌╌╌╌╌╌╌╌╌╌┼╌╌╌╌╌╌╌╌╌╌╌╌┤\n",
       "│ ZER  ┆ Schuylkill Cty/Joe Zerbey ┆ Pottsville       ┆ PA    ┆ USA     ┆ 40.706   ┆ -7.6373e1  │\n",
       "├╌╌╌╌╌╌┼╌╌╌╌╌╌╌╌╌╌╌╌╌╌╌╌╌╌╌╌╌╌╌╌╌╌╌┼╌╌╌╌╌╌╌╌╌╌╌╌╌╌╌╌╌╌┼╌╌╌╌╌╌╌┼╌╌╌╌╌╌╌╌╌┼╌╌╌╌╌╌╌╌╌╌┼╌╌╌╌╌╌╌╌╌╌╌╌┤\n",
       "│ ZPH  ┆ Zephyrhills Municipal     ┆ Zephyrhills      ┆ FL    ┆ USA     ┆ 28.228   ┆ -8.2156e1  │\n",
       "├╌╌╌╌╌╌┼╌╌╌╌╌╌╌╌╌╌╌╌╌╌╌╌╌╌╌╌╌╌╌╌╌╌╌┼╌╌╌╌╌╌╌╌╌╌╌╌╌╌╌╌╌╌┼╌╌╌╌╌╌╌┼╌╌╌╌╌╌╌╌╌┼╌╌╌╌╌╌╌╌╌╌┼╌╌╌╌╌╌╌╌╌╌╌╌┤\n",
       "│ ZUN  ┆ Black Rock                ┆ Zuni             ┆ NM    ┆ USA     ┆ 35.083   ┆ -1.08792e2 │\n",
       "├╌╌╌╌╌╌┼╌╌╌╌╌╌╌╌╌╌╌╌╌╌╌╌╌╌╌╌╌╌╌╌╌╌╌┼╌╌╌╌╌╌╌╌╌╌╌╌╌╌╌╌╌╌┼╌╌╌╌╌╌╌┼╌╌╌╌╌╌╌╌╌┼╌╌╌╌╌╌╌╌╌╌┼╌╌╌╌╌╌╌╌╌╌╌╌┤\n",
       "│ ZZV  ┆ Zanesville Municipal      ┆ Zanesville       ┆ OH    ┆ USA     ┆ 39.944   ┆ -8.1892e1  │\n",
       "╰──────┴───────────────────────────┴──────────────────┴───────┴─────────┴──────────┴────────────╯}"
      ]
     },
     "execution_count": 5,
     "metadata": {},
     "output_type": "execute_result"
    }
   ],
   "source": [
    "{:ok, df} = DF.read_csv(\"./lib/vega_datasets/_data/airports.csv\")"
   ]
  },
  {
   "cell_type": "code",
   "execution_count": 6,
   "metadata": {},
   "outputs": [
    {
     "data": {
      "text/plain": [
       "{:ok, shape: (5, 7)\n",
       "╭──────┬───────────────────────────┬─────────────┬───────┬─────────┬──────────┬────────────╮\n",
       "│ iata ┆ name                      ┆ city        ┆ state ┆ country ┆ latitude ┆ longitude  │\n",
       "│ ---  ┆ ---                       ┆ ---         ┆ ---   ┆ ---     ┆ ---      ┆ ---        │\n",
       "│ str  ┆ str                       ┆ str         ┆ str   ┆ str     ┆ f64      ┆ f64        │\n",
       "╞══════╪═══════════════════════════╪═════════════╪═══════╪═════════╪══════════╪════════════╡\n",
       "│ ZEF  ┆ Elkin Municipal           ┆ Elkin       ┆ NC    ┆ USA     ┆ 36.28    ┆ -8.0786e1  │\n",
       "├╌╌╌╌╌╌┼╌╌╌╌╌╌╌╌╌╌╌╌╌╌╌╌╌╌╌╌╌╌╌╌╌╌╌┼╌╌╌╌╌╌╌╌╌╌╌╌╌┼╌╌╌╌╌╌╌┼╌╌╌╌╌╌╌╌╌┼╌╌╌╌╌╌╌╌╌╌┼╌╌╌╌╌╌╌╌╌╌╌╌┤\n",
       "│ ZER  ┆ Schuylkill Cty/Joe Zerbey ┆ Pottsville  ┆ PA    ┆ USA     ┆ 40.706   ┆ -7.6373e1  │\n",
       "├╌╌╌╌╌╌┼╌╌╌╌╌╌╌╌╌╌╌╌╌╌╌╌╌╌╌╌╌╌╌╌╌╌╌┼╌╌╌╌╌╌╌╌╌╌╌╌╌┼╌╌╌╌╌╌╌┼╌╌╌╌╌╌╌╌╌┼╌╌╌╌╌╌╌╌╌╌┼╌╌╌╌╌╌╌╌╌╌╌╌┤\n",
       "│ ZPH  ┆ Zephyrhills Municipal     ┆ Zephyrhills ┆ FL    ┆ USA     ┆ 28.228   ┆ -8.2156e1  │\n",
       "├╌╌╌╌╌╌┼╌╌╌╌╌╌╌╌╌╌╌╌╌╌╌╌╌╌╌╌╌╌╌╌╌╌╌┼╌╌╌╌╌╌╌╌╌╌╌╌╌┼╌╌╌╌╌╌╌┼╌╌╌╌╌╌╌╌╌┼╌╌╌╌╌╌╌╌╌╌┼╌╌╌╌╌╌╌╌╌╌╌╌┤\n",
       "│ ZUN  ┆ Black Rock                ┆ Zuni        ┆ NM    ┆ USA     ┆ 35.083   ┆ -1.08792e2 │\n",
       "├╌╌╌╌╌╌┼╌╌╌╌╌╌╌╌╌╌╌╌╌╌╌╌╌╌╌╌╌╌╌╌╌╌╌┼╌╌╌╌╌╌╌╌╌╌╌╌╌┼╌╌╌╌╌╌╌┼╌╌╌╌╌╌╌╌╌┼╌╌╌╌╌╌╌╌╌╌┼╌╌╌╌╌╌╌╌╌╌╌╌┤\n",
       "│ ZZV  ┆ Zanesville Municipal      ┆ Zanesville  ┆ OH    ┆ USA     ┆ 39.944   ┆ -8.1892e1  │\n",
       "╰──────┴───────────────────────────┴─────────────┴───────┴─────────┴──────────┴────────────╯}"
      ]
     },
     "execution_count": 6,
     "metadata": {},
     "output_type": "execute_result"
    }
   ],
   "source": [
    "DF.tail(df)"
   ]
  },
  {
   "cell_type": "code",
   "execution_count": null,
   "metadata": {},
   "outputs": [],
   "source": [
    "DF."
   ]
  }
 ],
 "metadata": {
  "kernelspec": {
   "display_name": "Elixir",
   "language": "Elixir",
   "name": "ielixir"
  },
  "language_info": {
   "codemirror_mode": "elixir",
   "file_extension": "ex",
   "mimetype": "text/x-elixir",
   "name": "elixir",
   "nbconvert_exporter": "",
   "pygments_lexer": "elixir",
   "version": "1.11.2"
  }
 },
 "nbformat": 4,
 "nbformat_minor": 4
}
