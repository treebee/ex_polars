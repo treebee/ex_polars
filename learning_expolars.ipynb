{
 "cells": [
  {
   "cell_type": "markdown",
   "metadata": {},
   "source": [
    "## Prepare environment\n",
    "\n",
    "IElixir has \"boyle\" to build an env and install dependencies for jupyter lab. See more in: https://hexdocs.pm/ielixir/Boyle.html. To install IElixir, please follow this guide: https://github.com/pprzetacznik/IElixir#install-kernel."
   ]
  },
  {
   "cell_type": "code",
   "execution_count": 1,
   "metadata": {},
   "outputs": [],
   "source": [
    "Boyle.mk(\"polars\")\n",
    "Boyle.activate(\"polars\")\n",
    "Boyle.install({:ex_polars, \"~> 0.3.2-dev\"})"
   ]
  },
  {
   "cell_type": "markdown",
   "metadata": {},
   "source": [
    "## Import ExPolars DataFrame and Series\n",
    "\n",
    "The two major data structures in ExPolars are DataFrame and Series. They behave very similar to pandas. However due to the limitation of the elixir language,\n",
    "you have to import the overloaded operators for easy Series operations."
   ]
  },
  {
   "cell_type": "code",
   "execution_count": 6,
   "metadata": {},
   "outputs": [
    {
     "data": {
      "text/plain": [
       "ExPolars.Series"
      ]
     },
     "execution_count": 6,
     "metadata": {},
     "output_type": "execute_result"
    }
   ],
   "source": [
    "alias ExPolars.Series, as: S\n",
    "alias ExPolars.DataFrame, as: DF\n",
    "alias ExPolars.Datasets\n",
    "import Kernel, except: [+: 2, -: 2, *: 2, /: 2, ==: 2, <>: 2, >: 2, >=: 2, <: 2, <=: 2]\n",
    "import S, only: [+: 2, -: 2, *: 2, /: 2, ==: 2, <>: 2, >: 2, >=: 2, <: 2, <=: 2]"
   ]
  },
  {
   "cell_type": "markdown",
   "metadata": {},
   "source": [
    "## Loading a DataFrame from file\n",
    "\n",
    "ExPolars supports to load dataframe from JSON, CSV and Parquet files. Below is an example of loading a csv file.\n",
    "\n",
    "Once file is loaded, you can inspect it by using `head`, `tail`, `get_columns`, etc. See all the functionalities in https://hexdocs.pm/ex_polars/ExPolars.DataFrame.html. Since I don't have enough time (a good excuse for being lazy), I just put the typespec without actual doc in the document."
   ]
  },
  {
   "cell_type": "code",
   "execution_count": 2,
   "metadata": {},
   "outputs": [
    {
     "data": {
      "text/plain": [
       "{:ok, shape: (3376, 7)\n",
       "╭──────┬───────────────────────────┬──────────────────┬───────┬─────────┬──────────┬────────────╮\n",
       "│ iata ┆ name                      ┆ city             ┆ state ┆ country ┆ latitude ┆ longitude  │\n",
       "│ ---  ┆ ---                       ┆ ---              ┆ ---   ┆ ---     ┆ ---      ┆ ---        │\n",
       "│ str  ┆ str                       ┆ str              ┆ str   ┆ str     ┆ f64      ┆ f64        │\n",
       "╞══════╪═══════════════════════════╪══════════════════╪═══════╪═════════╪══════════╪════════════╡\n",
       "│ 00M  ┆ Thigpen                   ┆ Bay Springs      ┆ MS    ┆ USA     ┆ 31.954   ┆ -8.9235e1  │\n",
       "├╌╌╌╌╌╌┼╌╌╌╌╌╌╌╌╌╌╌╌╌╌╌╌╌╌╌╌╌╌╌╌╌╌╌┼╌╌╌╌╌╌╌╌╌╌╌╌╌╌╌╌╌╌┼╌╌╌╌╌╌╌┼╌╌╌╌╌╌╌╌╌┼╌╌╌╌╌╌╌╌╌╌┼╌╌╌╌╌╌╌╌╌╌╌╌┤\n",
       "│ 00R  ┆ Livingston Municipal      ┆ Livingston       ┆ TX    ┆ USA     ┆ 30.686   ┆ -9.5018e1  │\n",
       "├╌╌╌╌╌╌┼╌╌╌╌╌╌╌╌╌╌╌╌╌╌╌╌╌╌╌╌╌╌╌╌╌╌╌┼╌╌╌╌╌╌╌╌╌╌╌╌╌╌╌╌╌╌┼╌╌╌╌╌╌╌┼╌╌╌╌╌╌╌╌╌┼╌╌╌╌╌╌╌╌╌╌┼╌╌╌╌╌╌╌╌╌╌╌╌┤\n",
       "│ 00V  ┆ Meadow Lake               ┆ Colorado Springs ┆ CO    ┆ USA     ┆ 38.946   ┆ -1.0457e2  │\n",
       "├╌╌╌╌╌╌┼╌╌╌╌╌╌╌╌╌╌╌╌╌╌╌╌╌╌╌╌╌╌╌╌╌╌╌┼╌╌╌╌╌╌╌╌╌╌╌╌╌╌╌╌╌╌┼╌╌╌╌╌╌╌┼╌╌╌╌╌╌╌╌╌┼╌╌╌╌╌╌╌╌╌╌┼╌╌╌╌╌╌╌╌╌╌╌╌┤\n",
       "│ 01G  ┆ Perry-Warsaw              ┆ Perry            ┆ NY    ┆ USA     ┆ 42.741   ┆ -7.8052e1  │\n",
       "├╌╌╌╌╌╌┼╌╌╌╌╌╌╌╌╌╌╌╌╌╌╌╌╌╌╌╌╌╌╌╌╌╌╌┼╌╌╌╌╌╌╌╌╌╌╌╌╌╌╌╌╌╌┼╌╌╌╌╌╌╌┼╌╌╌╌╌╌╌╌╌┼╌╌╌╌╌╌╌╌╌╌┼╌╌╌╌╌╌╌╌╌╌╌╌┤\n",
       "│ ...  ┆ ...                       ┆ ...              ┆ ...   ┆ ...     ┆ ...      ┆ ...        │\n",
       "├╌╌╌╌╌╌┼╌╌╌╌╌╌╌╌╌╌╌╌╌╌╌╌╌╌╌╌╌╌╌╌╌╌╌┼╌╌╌╌╌╌╌╌╌╌╌╌╌╌╌╌╌╌┼╌╌╌╌╌╌╌┼╌╌╌╌╌╌╌╌╌┼╌╌╌╌╌╌╌╌╌╌┼╌╌╌╌╌╌╌╌╌╌╌╌┤\n",
       "│ ZEF  ┆ Elkin Municipal           ┆ Elkin            ┆ NC    ┆ USA     ┆ 36.28    ┆ -8.0786e1  │\n",
       "├╌╌╌╌╌╌┼╌╌╌╌╌╌╌╌╌╌╌╌╌╌╌╌╌╌╌╌╌╌╌╌╌╌╌┼╌╌╌╌╌╌╌╌╌╌╌╌╌╌╌╌╌╌┼╌╌╌╌╌╌╌┼╌╌╌╌╌╌╌╌╌┼╌╌╌╌╌╌╌╌╌╌┼╌╌╌╌╌╌╌╌╌╌╌╌┤\n",
       "│ ZER  ┆ Schuylkill Cty/Joe Zerbey ┆ Pottsville       ┆ PA    ┆ USA     ┆ 40.706   ┆ -7.6373e1  │\n",
       "├╌╌╌╌╌╌┼╌╌╌╌╌╌╌╌╌╌╌╌╌╌╌╌╌╌╌╌╌╌╌╌╌╌╌┼╌╌╌╌╌╌╌╌╌╌╌╌╌╌╌╌╌╌┼╌╌╌╌╌╌╌┼╌╌╌╌╌╌╌╌╌┼╌╌╌╌╌╌╌╌╌╌┼╌╌╌╌╌╌╌╌╌╌╌╌┤\n",
       "│ ZPH  ┆ Zephyrhills Municipal     ┆ Zephyrhills      ┆ FL    ┆ USA     ┆ 28.228   ┆ -8.2156e1  │\n",
       "├╌╌╌╌╌╌┼╌╌╌╌╌╌╌╌╌╌╌╌╌╌╌╌╌╌╌╌╌╌╌╌╌╌╌┼╌╌╌╌╌╌╌╌╌╌╌╌╌╌╌╌╌╌┼╌╌╌╌╌╌╌┼╌╌╌╌╌╌╌╌╌┼╌╌╌╌╌╌╌╌╌╌┼╌╌╌╌╌╌╌╌╌╌╌╌┤\n",
       "│ ZUN  ┆ Black Rock                ┆ Zuni             ┆ NM    ┆ USA     ┆ 35.083   ┆ -1.08792e2 │\n",
       "├╌╌╌╌╌╌┼╌╌╌╌╌╌╌╌╌╌╌╌╌╌╌╌╌╌╌╌╌╌╌╌╌╌╌┼╌╌╌╌╌╌╌╌╌╌╌╌╌╌╌╌╌╌┼╌╌╌╌╌╌╌┼╌╌╌╌╌╌╌╌╌┼╌╌╌╌╌╌╌╌╌╌┼╌╌╌╌╌╌╌╌╌╌╌╌┤\n",
       "│ ZZV  ┆ Zanesville Municipal      ┆ Zanesville       ┆ OH    ┆ USA     ┆ 39.944   ┆ -8.1892e1  │\n",
       "╰──────┴───────────────────────────┴──────────────────┴───────┴─────────┴──────────┴────────────╯}"
      ]
     },
     "execution_count": 2,
     "metadata": {},
     "output_type": "execute_result"
    }
   ],
   "source": [
    "{:ok, df} = DF.read_csv(\"./priv/datasets/airports.csv\")"
   ]
  },
  {
   "cell_type": "code",
   "execution_count": 3,
   "metadata": {},
   "outputs": [
    {
     "data": {
      "text/plain": [
       "{:ok, shape: (5, 7)\n",
       "╭──────┬───────────────────────────┬─────────────┬───────┬─────────┬──────────┬────────────╮\n",
       "│ iata ┆ name                      ┆ city        ┆ state ┆ country ┆ latitude ┆ longitude  │\n",
       "│ ---  ┆ ---                       ┆ ---         ┆ ---   ┆ ---     ┆ ---      ┆ ---        │\n",
       "│ str  ┆ str                       ┆ str         ┆ str   ┆ str     ┆ f64      ┆ f64        │\n",
       "╞══════╪═══════════════════════════╪═════════════╪═══════╪═════════╪══════════╪════════════╡\n",
       "│ ZEF  ┆ Elkin Municipal           ┆ Elkin       ┆ NC    ┆ USA     ┆ 36.28    ┆ -8.0786e1  │\n",
       "├╌╌╌╌╌╌┼╌╌╌╌╌╌╌╌╌╌╌╌╌╌╌╌╌╌╌╌╌╌╌╌╌╌╌┼╌╌╌╌╌╌╌╌╌╌╌╌╌┼╌╌╌╌╌╌╌┼╌╌╌╌╌╌╌╌╌┼╌╌╌╌╌╌╌╌╌╌┼╌╌╌╌╌╌╌╌╌╌╌╌┤\n",
       "│ ZER  ┆ Schuylkill Cty/Joe Zerbey ┆ Pottsville  ┆ PA    ┆ USA     ┆ 40.706   ┆ -7.6373e1  │\n",
       "├╌╌╌╌╌╌┼╌╌╌╌╌╌╌╌╌╌╌╌╌╌╌╌╌╌╌╌╌╌╌╌╌╌╌┼╌╌╌╌╌╌╌╌╌╌╌╌╌┼╌╌╌╌╌╌╌┼╌╌╌╌╌╌╌╌╌┼╌╌╌╌╌╌╌╌╌╌┼╌╌╌╌╌╌╌╌╌╌╌╌┤\n",
       "│ ZPH  ┆ Zephyrhills Municipal     ┆ Zephyrhills ┆ FL    ┆ USA     ┆ 28.228   ┆ -8.2156e1  │\n",
       "├╌╌╌╌╌╌┼╌╌╌╌╌╌╌╌╌╌╌╌╌╌╌╌╌╌╌╌╌╌╌╌╌╌╌┼╌╌╌╌╌╌╌╌╌╌╌╌╌┼╌╌╌╌╌╌╌┼╌╌╌╌╌╌╌╌╌┼╌╌╌╌╌╌╌╌╌╌┼╌╌╌╌╌╌╌╌╌╌╌╌┤\n",
       "│ ZUN  ┆ Black Rock                ┆ Zuni        ┆ NM    ┆ USA     ┆ 35.083   ┆ -1.08792e2 │\n",
       "├╌╌╌╌╌╌┼╌╌╌╌╌╌╌╌╌╌╌╌╌╌╌╌╌╌╌╌╌╌╌╌╌╌╌┼╌╌╌╌╌╌╌╌╌╌╌╌╌┼╌╌╌╌╌╌╌┼╌╌╌╌╌╌╌╌╌┼╌╌╌╌╌╌╌╌╌╌┼╌╌╌╌╌╌╌╌╌╌╌╌┤\n",
       "│ ZZV  ┆ Zanesville Municipal      ┆ Zanesville  ┆ OH    ┆ USA     ┆ 39.944   ┆ -8.1892e1  │\n",
       "╰──────┴───────────────────────────┴─────────────┴───────┴─────────┴──────────┴────────────╯}"
      ]
     },
     "execution_count": 3,
     "metadata": {},
     "output_type": "execute_result"
    }
   ],
   "source": [
    "DF.tail(df)"
   ]
  },
  {
   "cell_type": "markdown",
   "metadata": {},
   "source": [
    "## Interact with predefined datasets\n",
    "\n",
    "In `priv/datasets` there are many different datasets for you to use. These are good starting point if you'd like to explore the functionalities of ExPolars."
   ]
  },
  {
   "cell_type": "code",
   "execution_count": 5,
   "metadata": {},
   "outputs": [
    {
     "data": {
      "text/plain": [
       "shape: (1461, 6)\n",
       "╭────────────┬───────────────┬──────────┬──────────┬──────┬─────────╮\n",
       "│ date       ┆ precipitation ┆ temp_max ┆ temp_min ┆ wind ┆ weather │\n",
       "│ ---        ┆ ---           ┆ ---      ┆ ---      ┆ ---  ┆ ---     │\n",
       "│ str        ┆ f64           ┆ f64      ┆ f64      ┆ f64  ┆ str     │\n",
       "╞════════════╪═══════════════╪══════════╪══════════╪══════╪═════════╡\n",
       "│ 2012/01/01 ┆ 0.0           ┆ 12.8     ┆ 5        ┆ 4.7  ┆ drizzle │\n",
       "├╌╌╌╌╌╌╌╌╌╌╌╌┼╌╌╌╌╌╌╌╌╌╌╌╌╌╌╌┼╌╌╌╌╌╌╌╌╌╌┼╌╌╌╌╌╌╌╌╌╌┼╌╌╌╌╌╌┼╌╌╌╌╌╌╌╌╌┤\n",
       "│ 2012/01/02 ┆ 10.9          ┆ 10.6     ┆ 2.8      ┆ 4.5  ┆ rain    │\n",
       "├╌╌╌╌╌╌╌╌╌╌╌╌┼╌╌╌╌╌╌╌╌╌╌╌╌╌╌╌┼╌╌╌╌╌╌╌╌╌╌┼╌╌╌╌╌╌╌╌╌╌┼╌╌╌╌╌╌┼╌╌╌╌╌╌╌╌╌┤\n",
       "│ 2012/01/03 ┆ 0.8           ┆ 11.7     ┆ 7.2      ┆ 2.3  ┆ rain    │\n",
       "├╌╌╌╌╌╌╌╌╌╌╌╌┼╌╌╌╌╌╌╌╌╌╌╌╌╌╌╌┼╌╌╌╌╌╌╌╌╌╌┼╌╌╌╌╌╌╌╌╌╌┼╌╌╌╌╌╌┼╌╌╌╌╌╌╌╌╌┤\n",
       "│ 2012/01/04 ┆ 20.3          ┆ 12.2     ┆ 5.6      ┆ 4.7  ┆ rain    │\n",
       "├╌╌╌╌╌╌╌╌╌╌╌╌┼╌╌╌╌╌╌╌╌╌╌╌╌╌╌╌┼╌╌╌╌╌╌╌╌╌╌┼╌╌╌╌╌╌╌╌╌╌┼╌╌╌╌╌╌┼╌╌╌╌╌╌╌╌╌┤\n",
       "│ ...        ┆ ...           ┆ ...      ┆ ...      ┆ ...  ┆ ...     │\n",
       "├╌╌╌╌╌╌╌╌╌╌╌╌┼╌╌╌╌╌╌╌╌╌╌╌╌╌╌╌┼╌╌╌╌╌╌╌╌╌╌┼╌╌╌╌╌╌╌╌╌╌┼╌╌╌╌╌╌┼╌╌╌╌╌╌╌╌╌┤\n",
       "│ 2015/12/27 ┆ 8.6           ┆ 4.4      ┆ 1.7      ┆ 2.9  ┆ fog     │\n",
       "├╌╌╌╌╌╌╌╌╌╌╌╌┼╌╌╌╌╌╌╌╌╌╌╌╌╌╌╌┼╌╌╌╌╌╌╌╌╌╌┼╌╌╌╌╌╌╌╌╌╌┼╌╌╌╌╌╌┼╌╌╌╌╌╌╌╌╌┤\n",
       "│ 2015/12/28 ┆ 1.5           ┆ 5        ┆ 1.7      ┆ 1.3  ┆ fog     │\n",
       "├╌╌╌╌╌╌╌╌╌╌╌╌┼╌╌╌╌╌╌╌╌╌╌╌╌╌╌╌┼╌╌╌╌╌╌╌╌╌╌┼╌╌╌╌╌╌╌╌╌╌┼╌╌╌╌╌╌┼╌╌╌╌╌╌╌╌╌┤\n",
       "│ 2015/12/29 ┆ 0.0           ┆ 7.2      ┆ 0.6      ┆ 2.6  ┆ fog     │\n",
       "├╌╌╌╌╌╌╌╌╌╌╌╌┼╌╌╌╌╌╌╌╌╌╌╌╌╌╌╌┼╌╌╌╌╌╌╌╌╌╌┼╌╌╌╌╌╌╌╌╌╌┼╌╌╌╌╌╌┼╌╌╌╌╌╌╌╌╌┤\n",
       "│ 2015/12/30 ┆ 0.0           ┆ 5.6      ┆ -1e0     ┆ 3.4  ┆ sun     │\n",
       "├╌╌╌╌╌╌╌╌╌╌╌╌┼╌╌╌╌╌╌╌╌╌╌╌╌╌╌╌┼╌╌╌╌╌╌╌╌╌╌┼╌╌╌╌╌╌╌╌╌╌┼╌╌╌╌╌╌┼╌╌╌╌╌╌╌╌╌┤\n",
       "│ 2015/12/31 ┆ 0.0           ┆ 5.6      ┆ -2.1e0   ┆ 3.5  ┆ sun     │\n",
       "╰────────────┴───────────────┴──────────┴──────────┴──────┴─────────╯"
      ]
     },
     "execution_count": 5,
     "metadata": {},
     "output_type": "execute_result"
    }
   ],
   "source": [
    "weather = ExPolars.Datasets.seattle_weather"
   ]
  },
  {
   "cell_type": "markdown",
   "metadata": {},
   "source": [
    "## Complicated Operations\n",
    "\n",
    "You can do complicated operations with ExPolars.\n",
    "\n",
    "Operations include:\n",
    "\n",
    "- window, e.g. rolling_min, rolling_max\n",
    "- aggregate, eg. min, max, mean, std, var\n",
    "- comparison, e.g. ==, <>, <, >, <=, >=\n",
    "- shift\n",
    "- filter\n",
    "- ...\n",
    "\n",
    "For example, below filter operation is equal to `df[df[\"temp_min\"] < -5.0]` in pandas. Here you can see how Python's grammar (and magic functions) help to make the expressiveness much easier."
   ]
  },
  {
   "cell_type": "code",
   "execution_count": 17,
   "metadata": {},
   "outputs": [
    {
     "data": {
      "text/plain": [
       "{:ok, shape: (4, 6)\n",
       "╭────────────┬───────────────┬──────────┬──────────┬──────┬─────────╮\n",
       "│ date       ┆ precipitation ┆ temp_max ┆ temp_min ┆ wind ┆ weather │\n",
       "│ ---        ┆ ---           ┆ ---      ┆ ---      ┆ ---  ┆ ---     │\n",
       "│ str        ┆ f64           ┆ f64      ┆ f64      ┆ f64  ┆ str     │\n",
       "╞════════════╪═══════════════╪══════════╪══════════╪══════╪═════════╡\n",
       "│ 2013/12/07 ┆ 0.0           ┆ 0.0      ┆ -7.1e0   ┆ 3.1  ┆ sun     │\n",
       "├╌╌╌╌╌╌╌╌╌╌╌╌┼╌╌╌╌╌╌╌╌╌╌╌╌╌╌╌┼╌╌╌╌╌╌╌╌╌╌┼╌╌╌╌╌╌╌╌╌╌┼╌╌╌╌╌╌┼╌╌╌╌╌╌╌╌╌┤\n",
       "│ 2013/12/08 ┆ 0.0           ┆ 2.2      ┆ -6.6e0   ┆ 2.2  ┆ sun     │\n",
       "├╌╌╌╌╌╌╌╌╌╌╌╌┼╌╌╌╌╌╌╌╌╌╌╌╌╌╌╌┼╌╌╌╌╌╌╌╌╌╌┼╌╌╌╌╌╌╌╌╌╌┼╌╌╌╌╌╌┼╌╌╌╌╌╌╌╌╌┤\n",
       "│ 2014/02/05 ┆ 0.0           ┆ -5e-1    ┆ -5.5e0   ┆ 6.6  ┆ sun     │\n",
       "├╌╌╌╌╌╌╌╌╌╌╌╌┼╌╌╌╌╌╌╌╌╌╌╌╌╌╌╌┼╌╌╌╌╌╌╌╌╌╌┼╌╌╌╌╌╌╌╌╌╌┼╌╌╌╌╌╌┼╌╌╌╌╌╌╌╌╌┤\n",
       "│ 2014/02/06 ┆ 0.0           ┆ -1.6e0   ┆ -6e0     ┆ 4.5  ┆ sun     │\n",
       "╰────────────┴───────────────┴──────────┴──────────┴──────┴─────────╯}"
      ]
     },
     "execution_count": 17,
     "metadata": {},
     "output_type": "execute_result"
    }
   ],
   "source": [
    "df = DF.filter(weather, (DF.column(weather, \"temp_min\") < -5.0) )"
   ]
  },
  {
   "cell_type": "markdown",
   "metadata": {},
   "source": [
    "## DataFrame Persistence\n",
    "\n",
    "Right now ExPolars only support to persist the data frame to csv file. JSON/Parquet is not supported since the underlying library arrow hasn't support it: see: https://github.com/apache/arrow/blob/master/rust/parquet/README.md. "
   ]
  },
  {
   "cell_type": "code",
   "execution_count": 19,
   "metadata": {},
   "outputs": [
    {
     "ename": "ArgumentError",
     "evalue": "1",
     "execution_count": 19,
     "output_type": "error",
     "traceback": [
      "** (ArgumentError) \"argument error\""
     ]
    }
   ],
   "source": [
    "{:ok, csv} = DF.to_csv(df)\n"
   ]
  },
  {
   "cell_type": "code",
   "execution_count": null,
   "metadata": {},
   "outputs": [],
   "source": []
  }
 ],
 "metadata": {
  "kernelspec": {
   "display_name": "Elixir",
   "language": "Elixir",
   "name": "ielixir"
  },
  "language_info": {
   "codemirror_mode": "elixir",
   "file_extension": "ex",
   "mimetype": "text/x-elixir",
   "name": "elixir",
   "nbconvert_exporter": "",
   "pygments_lexer": "elixir",
   "version": "1.11.2"
  }
 },
 "nbformat": 4,
 "nbformat_minor": 4
}
